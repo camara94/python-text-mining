{
 "cells": [
  {
   "cell_type": "markdown",
   "metadata": {},
   "source": [
    "## Processing free-text"
   ]
  },
  {
   "cell_type": "code",
   "execution_count": 2,
   "metadata": {},
   "outputs": [],
   "source": [
    "text1 = '\"Ethics are built right into the ideals and objectives of the United Nationss\" #UNSG @ NY Society for Ethical Culture bit.ly/2guVelr @UN @UN_Women'"
   ]
  },
  {
   "cell_type": "code",
   "execution_count": 3,
   "metadata": {},
   "outputs": [],
   "source": [
    "text2 = text1.split( ' ')"
   ]
  },
  {
   "cell_type": "code",
   "execution_count": 4,
   "metadata": {},
   "outputs": [
    {
     "data": {
      "text/plain": [
       "['\"Ethics',\n",
       " 'are',\n",
       " 'built',\n",
       " 'right',\n",
       " 'into',\n",
       " 'the',\n",
       " 'ideals',\n",
       " 'and',\n",
       " 'objectives',\n",
       " 'of',\n",
       " 'the',\n",
       " 'United',\n",
       " 'Nationss\"',\n",
       " '#UNSG',\n",
       " '@',\n",
       " 'NY',\n",
       " 'Society',\n",
       " 'for',\n",
       " 'Ethical',\n",
       " 'Culture',\n",
       " 'bit.ly/2guVelr',\n",
       " '@UN',\n",
       " '@UN_Women']"
      ]
     },
     "execution_count": 4,
     "metadata": {},
     "output_type": "execute_result"
    }
   ],
   "source": [
    "text2"
   ]
  },
  {
   "cell_type": "markdown",
   "metadata": {},
   "source": [
    "## Finding specific words\n",
    "\n",
    "* Hastags\n"
   ]
  },
  {
   "cell_type": "code",
   "execution_count": 6,
   "metadata": {},
   "outputs": [
    {
     "data": {
      "text/plain": [
       "['#UNSG']"
      ]
     },
     "execution_count": 6,
     "metadata": {},
     "output_type": "execute_result"
    }
   ],
   "source": [
    "[w for w in text1.split(' ') if w.startswith('#')]"
   ]
  },
  {
   "cell_type": "code",
   "execution_count": 7,
   "metadata": {},
   "outputs": [
    {
     "data": {
      "text/plain": [
       "['@', '@UN', '@UN_Women']"
      ]
     },
     "execution_count": 7,
     "metadata": {},
     "output_type": "execute_result"
    }
   ],
   "source": [
    "[w for w in text1.split(' ') if w.startswith('@')]"
   ]
  },
  {
   "cell_type": "markdown",
   "metadata": {},
   "source": [
    "## Finding patterns with regular expressions\n",
    "\n",
    "* Callouts are more than just tokens beginning with '@'\n",
    "\n",
    "  @UN_Spokesperson  @katyperry @coursera\n",
    "  \n",
    "  \n",
    "* Match something after '@'\n",
    "\n",
    "  - Alphabets\n",
    "  - Numbers\n",
    "  - Special symbols like '_'\n",
    "  \n",
    "  The patterns are like @[A-Za-z0-9_]+"
   ]
  },
  {
   "cell_type": "code",
   "execution_count": 9,
   "metadata": {},
   "outputs": [
    {
     "data": {
      "text/plain": [
       "['@', '@UN', '@UN_Women']"
      ]
     },
     "execution_count": 9,
     "metadata": {},
     "output_type": "execute_result"
    }
   ],
   "source": [
    "[w for w in text1.split(' ') if w.startswith('@') ]"
   ]
  },
  {
   "cell_type": "markdown",
   "metadata": {},
   "source": [
    "## Import regular expressions first!"
   ]
  },
  {
   "cell_type": "code",
   "execution_count": 8,
   "metadata": {},
   "outputs": [],
   "source": [
    "import re"
   ]
  },
  {
   "cell_type": "code",
   "execution_count": 10,
   "metadata": {},
   "outputs": [
    {
     "data": {
      "text/plain": [
       "['@UN', '@UN_Women']"
      ]
     },
     "execution_count": 10,
     "metadata": {},
     "output_type": "execute_result"
    }
   ],
   "source": [
    "[w for w in text1.split(' ') if re.search('@[A-Za-z0-9_]', w)]"
   ]
  },
  {
   "cell_type": "markdown",
   "metadata": {},
   "source": [
    "## Parsing the callout regular expression\n",
    "\n",
    "![image 1](./../images/1.png)\n",
    "\n",
    "* starts with @\n",
    "* followed by any alphabet (upper or lower case), digit, or underscore\n",
    "* that repeats at least once, but any number of times\n"
   ]
  },
  {
   "cell_type": "markdown",
   "metadata": {},
   "source": [
    "## Meta-characters: Character matches\n",
    "\n",
    "* . : wilcard, matches a single character\n",
    "* ^ : start of a string\n",
    "* $ : end of a string\n",
    "* []: matches one of characters within []\n",
    "* [a-z]: matches one of the range of characters a, b, c, ...., z \n",
    "* [^abc]: matches a character that is not a, b or c\n",
    "* a|b   : matches either a or b, where a and b are strings\n",
    "* ()    : scoping for operators\n",
    "* \\     : escape character for special characters (\\t, \\n, \\b)"
   ]
  },
  {
   "cell_type": "markdown",
   "metadata": {},
   "source": [
    "## Meta-characters: Character symbols\n",
    "\n",
    "* \\b : matches words boundary\n",
    "* \\d : any digits, equivalent to [0-9]\n",
    "* \\D : any non-digit, equivalent [^0-9]\n",
    "* \\s : any whitespace, equivalent to [ \\t\\n\\r\\f\\v]\n",
    "* \\S : any non-whitespace, equivalent to [^ \\t\\n\\r\\f\\v]\n",
    "* \\w : any alphanumeric character to [a-z-A-Z0-9_]\n",
    "* \\W : any non-alphanumeric character to [^a-z-A-Z0-9_]\n"
   ]
  },
  {
   "cell_type": "markdown",
   "metadata": {},
   "source": [
    "## Meta-characters: Repetitions\n",
    "\n",
    "* \\* : matches zero or more occurrences\n",
    "* \\+ : matches one or more occurrences\n",
    "* ? : matches one or one occurrence\n",
    "* {n} : exactly n repetitions, n<>0\n",
    "* {n, } : at least n repetitions\n",
    "* {n, } : at mostt n repetitions\n",
    "* {m, m} : at least m and at most n repetitions"
   ]
  },
  {
   "cell_type": "code",
   "execution_count": 13,
   "metadata": {},
   "outputs": [
    {
     "data": {
      "text/plain": [
       "['@UN', '@UN_Women']"
      ]
     },
     "execution_count": 13,
     "metadata": {},
     "output_type": "execute_result"
    }
   ],
   "source": [
    "[w for w in text1.split(' ') if re.search( '@\\w+', w )]"
   ]
  },
  {
   "cell_type": "markdown",
   "metadata": {},
   "source": [
    "## Let's look at some more examples\n",
    "\n",
    "* Finding specifics characters"
   ]
  },
  {
   "cell_type": "code",
   "execution_count": 15,
   "metadata": {},
   "outputs": [
    {
     "data": {
      "text/plain": [
       "['o', 'u', 'a', 'o', 'u', 'o', 'u']"
      ]
     },
     "execution_count": 15,
     "metadata": {},
     "output_type": "execute_result"
    }
   ],
   "source": [
    "# finding all the vowels\n",
    "text3 = 'ougadougou'\n",
    "re.findall(r'[aeiouy]', text3)\n"
   ]
  },
  {
   "cell_type": "markdown",
   "metadata": {},
   "source": [
    "## Case study: Regular expression for dates\n",
    "\n",
    "* #### Date variation for 23<sup>rd</sup> October 2002\n",
    "\n",
    " 23-10-2002 <br />\n",
    " 23/10/2002 <br />\n",
    " 23/10/02 <br />\n",
    " 10/23/02 <br />\n",
    " 23 Oct 2002 <br />\n",
    " 23 October 2002 <br />\n",
    " Oct 23, 2002 <br />\n",
    " October 23, 2002 <br />\n",
    " matching example  **\\d{2}[/-]\\d{2}[/-]\\d{2,4}**"
   ]
  },
  {
   "cell_type": "code",
   "execution_count": 19,
   "metadata": {},
   "outputs": [],
   "source": [
    "datestr = \"23-10-2002\\n 23/10/2002\\n23/10/02\\n10/23/02\\n23 Oct 2002\\n23 October 2002\\nOct 23, 2002\\nOctober 23, 2002\""
   ]
  },
  {
   "cell_type": "code",
   "execution_count": 25,
   "metadata": {},
   "outputs": [
    {
     "data": {
      "text/plain": [
       "['23-10-2002', '23/10/2002']"
      ]
     },
     "execution_count": 25,
     "metadata": {},
     "output_type": "execute_result"
    }
   ],
   "source": [
    "re.findall(r'\\d{2}[/-]\\d{2}[/-]\\d{4}', datestr)"
   ]
  },
  {
   "cell_type": "code",
   "execution_count": 26,
   "metadata": {},
   "outputs": [
    {
     "data": {
      "text/plain": [
       "['23-10-2002', '23/10/2002', '23/10/02', '10/23/02']"
      ]
     },
     "execution_count": 26,
     "metadata": {},
     "output_type": "execute_result"
    }
   ],
   "source": [
    "re.findall(r'\\d{2}[/-]\\d{2}[/-]\\d{2,4}', datestr)"
   ]
  },
  {
   "cell_type": "code",
   "execution_count": 27,
   "metadata": {},
   "outputs": [
    {
     "data": {
      "text/plain": [
       "['23-10-2002', '23/10/2002', '23/10/02', '10/23/02']"
      ]
     },
     "execution_count": 27,
     "metadata": {},
     "output_type": "execute_result"
    }
   ],
   "source": [
    "re.findall(r'\\d{1,2}[/-]\\d{1,2}[/-]\\d{2,4}', datestr)"
   ]
  },
  {
   "cell_type": "code",
   "execution_count": 33,
   "metadata": {},
   "outputs": [
    {
     "data": {
      "text/plain": [
       "['23 Oct 2002', '23 October 2002']"
      ]
     },
     "execution_count": 33,
     "metadata": {},
     "output_type": "execute_result"
    }
   ],
   "source": [
    "re.findall(r'\\d{1,2} (?:Jan|Feb|Mar|Apr|May|Jun|Jul|Sep|Oct|Nov|Dec)[a-z]* \\d{2,4}', datestr)"
   ]
  },
  {
   "cell_type": "code",
   "execution_count": 49,
   "metadata": {},
   "outputs": [
    {
     "data": {
      "text/plain": [
       "['Oct 2002', 'October 2002', 'Oct 23, 2002', 'October 23, 2002']"
      ]
     },
     "execution_count": 49,
     "metadata": {},
     "output_type": "execute_result"
    }
   ],
   "source": [
    "re.findall(r'(?:\\d{1, 2} )?(?:Jan|Feb|Mar|Apr|May|Jun|Jul|Sep|Oct|Nov|Dec)[a-z]* (?:\\d{1,2}, )?\\d{4}', datestr)"
   ]
  },
  {
   "cell_type": "code",
   "execution_count": null,
   "metadata": {},
   "outputs": [],
   "source": []
  },
  {
   "cell_type": "code",
   "execution_count": null,
   "metadata": {},
   "outputs": [],
   "source": []
  },
  {
   "cell_type": "code",
   "execution_count": 16,
   "metadata": {},
   "outputs": [
    {
     "data": {
      "text/plain": [
       "['g', 'd', 'g']"
      ]
     },
     "execution_count": 16,
     "metadata": {},
     "output_type": "execute_result"
    }
   ],
   "source": [
    "## Finding all characters without vowels\n",
    "re.findall(r'[^aeiouy]', text3)"
   ]
  },
  {
   "cell_type": "markdown",
   "metadata": {},
   "source": [
    "## Exercice \n",
    "\n",
    "Write code that would extract hastags from following tweet:\n",
    "    \n",
    "tweet = \"@nltk Text analysis is awesome! #regex #pandas #python\""
   ]
  },
  {
   "cell_type": "code",
   "execution_count": 5,
   "metadata": {},
   "outputs": [
    {
     "data": {
      "text/plain": [
       "['#regex', '#pandas', '#python']"
      ]
     },
     "execution_count": 5,
     "metadata": {},
     "output_type": "execute_result"
    }
   ],
   "source": [
    "tweet = \"@nltk Text analysis is awesome! #regex #pandas #python\"\n",
    "the_hastages = [ w for w in tweet.split(' ') if w.startswith('#') ]\n",
    "the_hastages"
   ]
  },
  {
   "cell_type": "code",
   "execution_count": null,
   "metadata": {},
   "outputs": [],
   "source": [
    "## Take Home Concepts\n",
    "\n",
    "* What are regular expressions?\n",
    "* Regular expression meta-characters\n",
    "* B"
   ]
  }
 ],
 "metadata": {
  "kernelspec": {
   "display_name": "Python 3",
   "language": "python",
   "name": "python3"
  },
  "language_info": {
   "codemirror_mode": {
    "name": "ipython",
    "version": 3
   },
   "file_extension": ".py",
   "mimetype": "text/x-python",
   "name": "python",
   "nbconvert_exporter": "python",
   "pygments_lexer": "ipython3",
   "version": "3.8.5"
  }
 },
 "nbformat": 4,
 "nbformat_minor": 4
}
